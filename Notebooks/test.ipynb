{
 "cells": [
  {
   "cell_type": "markdown",
   "source": [
    "# Tests for the Pipeline"
   ],
   "metadata": {
    "collapsed": false
   }
  },
  {
   "cell_type": "code",
   "execution_count": 24,
   "outputs": [],
   "source": [
    "# Libraries\n",
    "from sklearn.ensemble import AdaBoostClassifier\n",
    "from Datasets.ClsDatasets import IrisDataset, CreditGDataset\n",
    "from ConfigSpace.hyperparameters import UniformFloatHyperparameter, UniformIntegerHyperparameter\n",
    "from HyperparametersOptimization.hyperparemeters_optimization import TunerSMAC\n",
    "from sklearn.model_selection import cross_val_score"
   ],
   "metadata": {
    "collapsed": false
   }
  },
  {
   "cell_type": "code",
   "execution_count": 25,
   "outputs": [
    {
     "name": "stderr",
     "output_type": "stream",
     "text": [
      "/opt/anaconda3/envs/AutoMLSRB/lib/python3.10/site-packages/sklearn/datasets/_openml.py:292: UserWarning: Multiple active versions of the dataset matching the name credit-g exist. Versions may be fundamentally different, returning version 1.\n",
      "  warn(\n",
      "/opt/anaconda3/envs/AutoMLSRB/lib/python3.10/site-packages/sklearn/datasets/_openml.py:932: FutureWarning: The default value of `parser` will change from `'liac-arff'` to `'auto'` in 1.4. You can set `parser='auto'` to silence this warning. Therefore, an `ImportError` will be raised from 1.4 if the dataset is dense and pandas is not installed. Note that the pandas parser may return different data types. See the Notes Section in fetch_openml's API doc for details.\n",
      "  warn(\n"
     ]
    },
    {
     "data": {
      "text/plain": "((1000, 20), (1000,))"
     },
     "execution_count": 25,
     "metadata": {},
     "output_type": "execute_result"
    }
   ],
   "source": [
    "# load data\n",
    "# data = IrisDataset()\n",
    "data = CreditGDataset()\n",
    "X = data.input\n",
    "Y = data.target\n",
    "X.shape, Y.shape"
   ],
   "metadata": {
    "collapsed": false
   }
  },
  {
   "cell_type": "code",
   "execution_count": 20,
   "outputs": [],
   "source": [
    "# set hyperparameters dict\n",
    "hp_dict = dict(\n",
    "    n_estimators=UniformIntegerHyperparameter(\"n_estimators\", 1, 99),\n",
    "    learning_rate=UniformFloatHyperparameter(\"learning_rate\", 0, 10)\n",
    ")"
   ],
   "metadata": {
    "collapsed": false
   }
  },
  {
   "cell_type": "code",
   "execution_count": 21,
   "outputs": [],
   "source": [
    "# define the objective function\n",
    "def objective(config):\n",
    "    model = AdaBoostClassifier(n_estimators=config[\"n_estimators\"], learning_rate=config[\"learning_rate\"])\n",
    "    # model.fit(X, Y)\n",
    "    scores = cross_val_score(model, X, Y, cv=10)\n",
    "    print(scores.mean(), scores.std())\n",
    "    return 1 - scores.mean()"
   ],
   "metadata": {
    "collapsed": false
   }
  },
  {
   "cell_type": "code",
   "execution_count": 22,
   "outputs": [],
   "source": [
    "tuner = TunerSMAC(\n",
    "    hp_dict=hp_dict,\n",
    "    objective_foo=objective,\n",
    "    trials=10,\n",
    "    log_path=\"../experiments/test\",\n",
    "    n_jobs=1,\n",
    "    seed=2023\n",
    ")"
   ],
   "metadata": {
    "collapsed": false
   }
  },
  {
   "cell_type": "code",
   "execution_count": 23,
   "outputs": [
    {
     "name": "stdout",
     "output_type": "stream",
     "text": [
      "0.9400000000000001 0.05537749241945381\n",
      "0.9533333333333334 0.052068331172711015\n",
      "0.9533333333333334 0.052068331172711015\n",
      "0.9400000000000001 0.06289320754704401\n",
      "0.9533333333333334 0.052068331172711015\n",
      "0.9533333333333334 0.052068331172711015\n",
      "0.9533333333333334 0.052068331172711015\n",
      "0.9533333333333334 0.052068331172711015\n",
      "0.9533333333333334 0.052068331172711015\n",
      "0.96 0.044221663871405324\n",
      "Configuration(values={\n",
      "  'learning_rate': 3.8468915140884317,\n",
      "  'n_estimators': 45,\n",
      "})\n",
      "\n",
      "0.9266666666666667 0.06289320754704401\n",
      "0.9533333333333334 0.052068331172711015\n",
      "0.96 0.044221663871405324\n",
      "0.9533333333333334 0.052068331172711015\n",
      "0.96 0.044221663871405324\n",
      "0.9533333333333334 0.052068331172711015\n",
      "0.96 0.044221663871405324\n",
      "0.9400000000000001 0.06289320754704401\n",
      "0.96 0.044221663871405324\n",
      "0.96 0.044221663871405324\n",
      "Configuration(values={\n",
      "  'learning_rate': 3.8468915140884317,\n",
      "  'n_estimators': 45,\n",
      "})\n",
      "\n",
      "0.9666666666666666 0.033333333333333326\n",
      "0.9666666666666666 0.033333333333333326\n",
      "0.9533333333333334 0.059999999999999984\n",
      "0.9133333333333334 0.05206833117271102\n",
      "0.9666666666666666 0.033333333333333326\n",
      "0.9666666666666666 0.033333333333333326\n",
      "0.96 0.044221663871405324\n",
      "0.9533333333333334 0.059999999999999984\n",
      "0.9666666666666666 0.033333333333333326\n",
      "0.9666666666666666 0.033333333333333326\n",
      "Configuration(values={\n",
      "  'learning_rate': 3.8254510621066578,\n",
      "  'n_estimators': 45,\n",
      "})\n",
      "\n",
      "0.9400000000000001 0.08137703743822469\n",
      "0.9533333333333334 0.059999999999999984\n",
      "0.9533333333333334 0.052068331172711015\n",
      "0.9533333333333334 0.059999999999999984\n",
      "0.9666666666666666 0.033333333333333326\n",
      "0.9533333333333334 0.059999999999999984\n",
      "0.96 0.044221663871405324\n",
      "0.9666666666666666 0.033333333333333326\n",
      "0.9666666666666666 0.033333333333333326\n",
      "0.9533333333333334 0.052068331172711015\n",
      "Configuration(values={\n",
      "  'learning_rate': 3.8254510621066578,\n",
      "  'n_estimators': 45,\n",
      "})\n",
      "\n",
      "0.9666666666666666 0.033333333333333326\n",
      "0.9533333333333334 0.052068331172711015\n",
      "0.9666666666666666 0.033333333333333326\n",
      "0.9666666666666666 0.033333333333333326\n",
      "0.9666666666666666 0.033333333333333326\n",
      "0.9666666666666666 0.033333333333333326\n",
      "0.9533333333333334 0.052068331172711015\n",
      "0.96 0.044221663871405324\n",
      "0.9666666666666666 0.033333333333333326\n",
      "0.9533333333333334 0.059999999999999984\n",
      "Configuration(values={\n",
      "  'learning_rate': 3.8254510621066578,\n",
      "  'n_estimators': 45,\n",
      "})\n",
      "\n",
      "0.9666666666666666 0.033333333333333326\n",
      "0.9666666666666666 0.033333333333333326\n",
      "0.9666666666666666 0.033333333333333326\n",
      "0.9533333333333334 0.052068331172711015\n",
      "0.9666666666666666 0.033333333333333326\n",
      "0.9666666666666666 0.033333333333333326\n",
      "0.9666666666666666 0.033333333333333326\n",
      "0.9533333333333334 0.052068331172711015\n",
      "0.9666666666666666 0.033333333333333326\n",
      "0.9533333333333334 0.052068331172711015\n",
      "Configuration(values={\n",
      "  'learning_rate': 3.8254510621066578,\n",
      "  'n_estimators': 45,\n",
      "})\n",
      "\n",
      "0.9533333333333334 0.059999999999999984\n",
      "0.9533333333333334 0.059999999999999984\n",
      "0.9533333333333334 0.059999999999999984\n",
      "0.9666666666666666 0.033333333333333326\n",
      "0.9666666666666666 0.033333333333333326\n",
      "0.9666666666666666 0.033333333333333326\n",
      "0.9666666666666666 0.033333333333333326\n",
      "0.9666666666666666 0.033333333333333326\n",
      "0.9466666666666667 0.07774602526460402\n",
      "0.9666666666666666 0.033333333333333326\n",
      "Configuration(values={\n",
      "  'learning_rate': 3.8254510621066578,\n",
      "  'n_estimators': 45,\n",
      "})\n",
      "\n",
      "0.9666666666666666 0.033333333333333326\n",
      "0.9533333333333334 0.059999999999999984\n",
      "0.9666666666666666 0.033333333333333326\n",
      "0.9666666666666666 0.033333333333333326\n",
      "0.9533333333333334 0.059999999999999984\n",
      "0.9666666666666666 0.033333333333333326\n",
      "0.9666666666666666 0.033333333333333326\n",
      "0.9666666666666666 0.033333333333333326\n",
      "0.9533333333333334 0.052068331172711015\n",
      "0.9666666666666666 0.033333333333333326\n",
      "Configuration(values={\n",
      "  'learning_rate': 3.8254510621066578,\n",
      "  'n_estimators': 45,\n",
      "})\n",
      "\n",
      "0.9666666666666666 0.033333333333333326\n",
      "0.9533333333333334 0.052068331172711015\n",
      "0.8866666666666667 0.06699917080747261\n",
      "0.9666666666666666 0.033333333333333326\n",
      "0.9533333333333334 0.052068331172711015\n",
      "0.9666666666666666 0.033333333333333326\n",
      "0.9533333333333334 0.052068331172711015\n",
      "0.9666666666666666 0.033333333333333326\n",
      "0.9666666666666666 0.033333333333333326\n",
      "0.9666666666666666 0.033333333333333326\n",
      "Configuration(values={\n",
      "  'learning_rate': 3.8254510621066578,\n",
      "  'n_estimators': 45,\n",
      "})\n",
      "\n",
      "0.9666666666666666 0.033333333333333326\n",
      "0.9533333333333334 0.052068331172711015\n",
      "0.9666666666666666 0.033333333333333326\n",
      "0.9533333333333334 0.059999999999999984\n",
      "0.9666666666666666 0.033333333333333326\n",
      "0.9533333333333334 0.059999999999999984\n",
      "0.9533333333333334 0.052068331172711015\n",
      "0.9533333333333334 0.052068331172711015\n",
      "0.9666666666666666 0.033333333333333326\n",
      "0.82 0.08969082698049143\n",
      "Configuration(values={\n",
      "  'learning_rate': 3.8254510621066578,\n",
      "  'n_estimators': 45,\n",
      "})\n",
      "\n"
     ]
    }
   ],
   "source": [
    "budget = 10\n",
    "for _ in range(budget):\n",
    "    res = tuner.tune(10)\n",
    "    print(res)"
   ],
   "metadata": {
    "collapsed": false
   }
  },
  {
   "cell_type": "code",
   "execution_count": null,
   "outputs": [],
   "source": [],
   "metadata": {
    "collapsed": false
   }
  }
 ],
 "metadata": {
  "kernelspec": {
   "display_name": "Python 3",
   "language": "python",
   "name": "python3"
  },
  "language_info": {
   "codemirror_mode": {
    "name": "ipython",
    "version": 2
   },
   "file_extension": ".py",
   "mimetype": "text/x-python",
   "name": "python",
   "nbconvert_exporter": "python",
   "pygments_lexer": "ipython2",
   "version": "2.7.6"
  }
 },
 "nbformat": 4,
 "nbformat_minor": 0
}
