{
 "cells": [
  {
   "cell_type": "markdown",
   "source": [
    "# Tests for the Pipeline"
   ],
   "metadata": {
    "collapsed": false
   }
  },
  {
   "cell_type": "code",
   "execution_count": 1,
   "outputs": [],
   "source": [
    "# Libraries\n",
    "from sklearn.ensemble import AdaBoostClassifier\n",
    "from Datasets.ClsDatasets import IrisDataset, CreditGDataset\n",
    "from ConfigSpace.hyperparameters import UniformFloatHyperparameter, UniformIntegerHyperparameter\n",
    "from HyperparametersOptimization.hyperparemeters_optimization import TunerSMAC\n",
    "from sklearn.model_selection import cross_val_score"
   ],
   "metadata": {
    "collapsed": false
   }
  },
  {
   "cell_type": "code",
   "execution_count": 2,
   "outputs": [
    {
     "name": "stderr",
     "output_type": "stream",
     "text": [
      "/opt/anaconda3/envs/AutoMLSRB/lib/python3.10/site-packages/sklearn/datasets/_openml.py:292: UserWarning: Multiple active versions of the dataset matching the name credit-g exist. Versions may be fundamentally different, returning version 1.\n",
      "  warn(\n",
      "/opt/anaconda3/envs/AutoMLSRB/lib/python3.10/site-packages/sklearn/datasets/_openml.py:932: FutureWarning: The default value of `parser` will change from `'liac-arff'` to `'auto'` in 1.4. You can set `parser='auto'` to silence this warning. Therefore, an `ImportError` will be raised from 1.4 if the dataset is dense and pandas is not installed. Note that the pandas parser may return different data types. See the Notes Section in fetch_openml's API doc for details.\n",
      "  warn(\n"
     ]
    },
    {
     "data": {
      "text/plain": "((1000, 20), (1000,))"
     },
     "execution_count": 2,
     "metadata": {},
     "output_type": "execute_result"
    }
   ],
   "source": [
    "# load data\n",
    "# data = IrisDataset()\n",
    "data = CreditGDataset()\n",
    "X = data.input\n",
    "Y = data.target\n",
    "X.shape, Y.shape"
   ],
   "metadata": {
    "collapsed": false
   }
  },
  {
   "cell_type": "code",
   "execution_count": 3,
   "outputs": [],
   "source": [
    "# set hyperparameters dict\n",
    "hp_dict = dict(\n",
    "    n_estimators=UniformIntegerHyperparameter(\"n_estimators\", 1, 99),\n",
    "    learning_rate=UniformFloatHyperparameter(\"learning_rate\", 0, 10)\n",
    ")"
   ],
   "metadata": {
    "collapsed": false
   }
  },
  {
   "cell_type": "code",
   "execution_count": 4,
   "outputs": [],
   "source": [
    "# define the objective function\n",
    "def objective(config):\n",
    "    model = AdaBoostClassifier(n_estimators=config[\"n_estimators\"], learning_rate=config[\"learning_rate\"])\n",
    "    # model.fit(X, Y)\n",
    "    scores = cross_val_score(model, X, Y, cv=10)\n",
    "    print(scores.mean(), scores.std())\n",
    "    return 1 - scores.mean()"
   ],
   "metadata": {
    "collapsed": false
   }
  },
  {
   "cell_type": "code",
   "execution_count": 5,
   "outputs": [],
   "source": [
    "tuner = TunerSMAC(\n",
    "    hp_dict=hp_dict,\n",
    "    objective_foo=objective,\n",
    "    trials=10,\n",
    "    log_path=\"../experiments/test\",\n",
    "    n_jobs=1,\n",
    "    seed=2023\n",
    ")"
   ],
   "metadata": {
    "collapsed": false
   }
  },
  {
   "cell_type": "code",
   "execution_count": 6,
   "outputs": [
    {
     "name": "stdout",
     "output_type": "stream",
     "text": [
      "0.7020000000000001 0.025612496949731375\n",
      "0.7 0.004472135954999583\n",
      "0.699 0.005385164807134508\n",
      "0.7369999999999999 0.0371618083521241\n",
      "0.7 0.0\n",
      "0.7670000000000001 0.037696153649941534\n",
      "0.7 0.0\n",
      "0.768 0.03762977544445355\n",
      "0.766 0.041521078984053376\n",
      "0.765 0.048836461788299125\n",
      "Configuration(values={\n",
      "  'learning_rate': 0.5967296351498963,\n",
      "  'n_estimators': 95,\n",
      "})\n",
      "\n",
      "0.767 0.036619666847201096\n",
      "0.76 0.029325756597230385\n",
      "0.774 0.03826225293941797\n",
      "0.7 0.0\n",
      "0.7709999999999999 0.041097445176069024\n",
      "0.7699999999999999 0.03633180424916991\n",
      "0.7579999999999999 0.05192301994298868\n",
      "0.774 0.03693237062523879\n",
      "0.45499999999999996 0.16286497474902326\n",
      "0.77 0.03949683531626299\n",
      "Configuration(values={\n",
      "  'learning_rate': 0.5929891311657232,\n",
      "  'n_estimators': 36,\n",
      "})\n",
      "\n",
      "0.709 0.02662705391138869\n",
      "0.7650000000000001 0.04863126566315131\n",
      "0.653 0.03950949253027682\n",
      "0.775 0.039812058474788754\n",
      "0.7 0.0\n",
      "0.774 0.04223742416388574\n",
      "0.771 0.04036087214122111\n",
      "0.776 0.03469870314579496\n",
      "0.7700000000000001 0.046475800154489\n",
      "0.7750000000000001 0.03471310991541957\n",
      "Configuration(values={\n",
      "  'learning_rate': 0.593234830519433,\n",
      "  'n_estimators': 33,\n",
      "})\n",
      "\n",
      "0.721 0.029816103031751147\n",
      "0.774 0.03929376540877699\n",
      "0.776 0.03469870314579496\n",
      "0.7750000000000001 0.03471310991541957\n",
      "0.776 0.03469870314579496\n",
      "0.7710000000000001 0.04784349485562274\n",
      "0.7 0.0\n",
      "0.7 0.0\n",
      "0.699 0.0030000000000000027\n",
      "0.776 0.03469870314579496\n",
      "Configuration(values={\n",
      "  'learning_rate': 0.593234830519433,\n",
      "  'n_estimators': 33,\n",
      "})\n",
      "\n",
      "0.708 0.045343136195018535\n",
      "0.29999999999999993 5.551115123125783e-17\n",
      "0.727 0.03822302970723277\n",
      "0.776 0.03469870314579496\n",
      "0.7 0.0\n",
      "0.699 0.0030000000000000027\n",
      "0.7 0.004472135954999583\n",
      "0.7 0.0\n",
      "0.7 0.0\n",
      "0.776 0.03469870314579496\n",
      "Configuration(values={\n",
      "  'learning_rate': 0.593234830519433,\n",
      "  'n_estimators': 33,\n",
      "})\n",
      "\n",
      "0.7710000000000001 0.04784349485562274\n",
      "0.776 0.03469870314579496\n",
      "0.776 0.03693237062523879\n",
      "0.776 0.03693237062523879\n",
      "0.7 0.0\n",
      "0.776 0.03440930106817052\n",
      "0.777 0.034073450074801656\n",
      "0.776 0.03440930106817052\n",
      "0.7729999999999999 0.037161808352124105\n",
      "0.777 0.034073450074801656\n",
      "Configuration(values={\n",
      "  'learning_rate': 0.5878380413171972,\n",
      "  'n_estimators': 33,\n",
      "})\n",
      "\n",
      "0.776 0.029732137494637018\n",
      "0.7150000000000001 0.049040799340956925\n",
      "0.776 0.03469870314579496\n",
      "0.7700000000000001 0.04074309757492672\n",
      "0.777 0.034073450074801656\n",
      "0.7 0.0\n",
      "0.699 0.0030000000000000027\n",
      "0.777 0.034073450074801656\n",
      "0.7650000000000001 0.04031128874149276\n",
      "0.7 0.0\n",
      "Configuration(values={\n",
      "  'learning_rate': 0.5878380413171972,\n",
      "  'n_estimators': 33,\n",
      "})\n",
      "\n",
      "0.777 0.034073450074801656\n",
      "0.768 0.04445222154178573\n",
      "0.7 0.0\n",
      "0.777 0.034073450074801656\n",
      "0.7719999999999999 0.03682390527904395\n",
      "0.699 0.005385164807134508\n",
      "0.699 0.005385164807134508\n",
      "0.7 0.0\n",
      "0.29999999999999993 5.551115123125783e-17\n",
      "0.773 0.04561797891182817\n",
      "Configuration(values={\n",
      "  'learning_rate': 0.5878380413171972,\n",
      "  'n_estimators': 33,\n",
      "})\n",
      "\n",
      "0.777 0.034073450074801656\n",
      "0.777 0.034073450074801656\n",
      "0.7 0.004472135954999583\n",
      "0.7 0.0\n",
      "0.7 0.0\n",
      "0.7 0.0\n",
      "0.7 0.0\n",
      "0.7 0.0\n",
      "0.29999999999999993 5.551115123125783e-17\n",
      "0.777 0.034073450074801656\n",
      "Configuration(values={\n",
      "  'learning_rate': 0.5878380413171972,\n",
      "  'n_estimators': 33,\n",
      "})\n",
      "\n",
      "0.7 0.0\n",
      "0.7 0.0\n",
      "0.777 0.034073450074801656\n",
      "0.7 0.0\n",
      "0.7 0.0\n",
      "0.777 0.034073450074801656\n",
      "0.777 0.034073450074801656\n",
      "0.777 0.034073450074801656\n",
      "0.777 0.034073450074801656\n",
      "0.7 0.0\n",
      "Configuration(values={\n",
      "  'learning_rate': 0.5878380413171972,\n",
      "  'n_estimators': 33,\n",
      "})\n",
      "\n"
     ]
    }
   ],
   "source": [
    "budget = 10\n",
    "for _ in range(budget):\n",
    "    res = tuner.tune(10)\n",
    "    print(res)"
   ],
   "metadata": {
    "collapsed": false
   }
  },
  {
   "cell_type": "code",
   "execution_count": null,
   "outputs": [],
   "source": [],
   "metadata": {
    "collapsed": false
   }
  }
 ],
 "metadata": {
  "kernelspec": {
   "display_name": "Python 3",
   "language": "python",
   "name": "python3"
  },
  "language_info": {
   "codemirror_mode": {
    "name": "ipython",
    "version": 2
   },
   "file_extension": ".py",
   "mimetype": "text/x-python",
   "name": "python",
   "nbconvert_exporter": "python",
   "pygments_lexer": "ipython2",
   "version": "2.7.6"
  }
 },
 "nbformat": 4,
 "nbformat_minor": 0
}
