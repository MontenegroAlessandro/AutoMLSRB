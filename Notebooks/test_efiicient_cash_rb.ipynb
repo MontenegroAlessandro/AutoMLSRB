{
 "cells": [
  {
   "cell_type": "code",
   "execution_count": 1,
   "metadata": {
    "collapsed": true
   },
   "outputs": [],
   "source": [
    "# Libraries\n",
    "import pickle\n",
    "from sklearn.ensemble import AdaBoostClassifier, RandomForestClassifier\n",
    "from Datasets.ClsDatasets import WineDataset\n",
    "from ConfigSpace.hyperparameters import UniformFloatHyperparameter, UniformIntegerHyperparameter, \\\n",
    "    CategoricalHyperparameter, Constant\n",
    "from HyperparametersOptimization.hyperparemeters_optimization import TunerSMAC\n",
    "from sklearn.model_selection import cross_val_score\n",
    "from sklearn.neighbors import KNeighborsClassifier\n",
    "from AutomaticModelSelection.automatic_model_selection import Arm, EfficientCASHRB\n",
    "from copy import deepcopy"
   ]
  },
  {
   "cell_type": "code",
   "execution_count": 2,
   "outputs": [
    {
     "name": "stdout",
     "output_type": "stream",
     "text": [
      "(178, 13) (178,)\n"
     ]
    }
   ],
   "source": [
    "# Data\n",
    "data = WineDataset()\n",
    "X = data.input\n",
    "Y = data.target\n",
    "print(X.shape, Y.shape)"
   ],
   "metadata": {
    "collapsed": false
   }
  },
  {
   "cell_type": "code",
   "execution_count": 11,
   "outputs": [],
   "source": [
    "# Hyperparameter(s)\n",
    "hp_dict_adaboost = dict(\n",
    "    n_estimators=UniformIntegerHyperparameter(name=\"n_estimators\", lower=50, upper=500, default_value=50),\n",
    "    learning_rate=UniformFloatHyperparameter(name=\"learning_rate\", lower=0.01, upper=3, default_value=0.1),\n",
    "    algorithm=CategoricalHyperparameter(name=\"algorithm\", choices=[\"SAMME.R\", \"SAMME\"], default_value=\"SAMME.R\")\n",
    ")\n",
    "\n",
    "hp_dict_rf = dict(\n",
    "    n_estimators=Constant(\"n_estimators\", 100),\n",
    "    criterion=CategoricalHyperparameter(name=\"criterion\", choices=[\"gini\", \"entropy\"], default_value=\"gini\"),\n",
    "    max_depth=UniformIntegerHyperparameter(name=\"max_depth\", lower=1, upper=200, default_value=30),\n",
    ")\n",
    "\n",
    "hp_dict_knn = dict(\n",
    "    n_neighbors=UniformIntegerHyperparameter(name=\"n_neighbors\", lower=1, upper=100, default_value=1),\n",
    "    weights=CategoricalHyperparameter(name=\"weights\", choices=[\"uniform\", \"distance\"], default_value=\"uniform\"),\n",
    "    p=CategoricalHyperparameter(name=\"p\", choices=[1, 2], default_value=2)\n",
    ")\n",
    "\n",
    "hp_dict_smbo = dict(\n",
    "    n_neighbors=UniformIntegerHyperparameter(name=\"n_neighbors\", lower=1, upper=100, default_value=1),\n",
    "    weights=CategoricalHyperparameter(name=\"weights\", choices=[\"uniform\", \"distance\"], default_value=\"uniform\"),\n",
    "    p=CategoricalHyperparameter(name=\"p\", choices=[1, 2], default_value=2),\n",
    "    #n_estimators_rf=Constant(\"n_estimators\", 100),\n",
    "    criterion=CategoricalHyperparameter(name=\"criterion\", choices=[\"gini\", \"entropy\"], default_value=\"gini\"),\n",
    "    max_depth=UniformIntegerHyperparameter(name=\"max_depth\", lower=1, upper=200, default_value=30),\n",
    "    n_estimators=UniformIntegerHyperparameter(name=\"n_estimators\", lower=50, upper=500, default_value=50),\n",
    "    learning_rate=UniformFloatHyperparameter(name=\"learning_rate\", lower=0.01, upper=3, default_value=0.1),\n",
    "    algorithm=CategoricalHyperparameter(name=\"algorithm\", choices=[\"SAMME.R\", \"SAMME\"], default_value=\"SAMME.R\"),\n",
    "    root=CategoricalHyperparameter(name=\"root\", choices=[0, 1, 2], default_value=0)\n",
    ")"
   ],
   "metadata": {
    "collapsed": false
   }
  },
  {
   "cell_type": "code",
   "execution_count": 15,
   "outputs": [],
   "source": [
    "# Objective(s)\n",
    "def objective_adaboost(config):\n",
    "    model = AdaBoostClassifier(n_estimators=config[\"n_estimators\"], learning_rate=config[\"learning_rate\"],\n",
    "                               algorithm=config[\"algorithm\"])\n",
    "    scores = cross_val_score(model, X, Y, cv=10)\n",
    "    print(scores.mean(), scores.std())\n",
    "    return 1 - scores.mean()\n",
    "\n",
    "def objective_rf(config):\n",
    "    model = RandomForestClassifier(max_depth=config[\"max_depth\"], criterion=config[\"criterion\"], n_estimators=config[\"n_estimators\"])\n",
    "    scores = cross_val_score(model, X, Y, cv=10)\n",
    "    print(scores.mean(), scores.std())\n",
    "    return 1 - scores.mean()\n",
    "\n",
    "def objective_knn(config):\n",
    "    model = KNeighborsClassifier(n_neighbors=config[\"n_neighbors\"], weights=config[\"weights\"], p=config[\"p\"])\n",
    "    scores = cross_val_score(model, X, Y, cv=10)\n",
    "    print(scores.mean(), scores.std())\n",
    "    return 1 - scores.mean()\n",
    "\n",
    "def objective_smbo(config):\n",
    "    models = [\n",
    "        AdaBoostClassifier(n_estimators=config[\"n_estimators\"], learning_rate=config[\"learning_rate\"],\n",
    "                               algorithm=config[\"algorithm\"]),\n",
    "        RandomForestClassifier(max_depth=config[\"max_depth\"], criterion=config[\"criterion\"], n_estimators=config[\"n_estimators\"]),\n",
    "        KNeighborsClassifier(n_neighbors=config[\"n_neighbors\"], weights=config[\"weights\"], p=config[\"p\"])\n",
    "    ]\n",
    "    model = models[config[\"root\"]]\n",
    "    print(\"ALGO: \", config[\"root\"])\n",
    "    scores = cross_val_score(model, X, Y, cv=10)\n",
    "    print(scores.mean(), scores.std())\n",
    "    return 1 - scores.mean()"
   ],
   "metadata": {
    "collapsed": false
   }
  },
  {
   "cell_type": "code",
   "execution_count": 16,
   "outputs": [],
   "source": [
    "# Tuner(s)\n",
    "base_dir = \"../experiments/Test_EfficientCASHRB/\"\n",
    "tuner_args = dict(\n",
    "    hp_dict=deepcopy(hp_dict_adaboost),\n",
    "    objective_foo=objective_adaboost,\n",
    "    trials=1,\n",
    "    log_path=base_dir + \"test_ada\",\n",
    "    n_jobs=1,\n",
    "    seed=2023\n",
    ")\n",
    "tuner_adaboost = TunerSMAC(**tuner_args)\n",
    "\n",
    "tuner_args[\"hp_dict\"] = deepcopy(hp_dict_rf)\n",
    "tuner_args[\"objective_foo\"] = objective_rf\n",
    "tuner_args[\"log_path\"] = base_dir + \"test_rf\"\n",
    "tuner_rf = TunerSMAC(**tuner_args)\n",
    "\n",
    "tuner_args[\"hp_dict\"] = deepcopy(hp_dict_knn)\n",
    "tuner_args[\"objective_foo\"] = objective_knn\n",
    "tuner_args[\"log_path\"] = base_dir + \"test_knn\"\n",
    "tuner_knn = TunerSMAC(**tuner_args)\n",
    "\n",
    "tuner_args[\"hp_dict\"] = deepcopy(hp_dict_smbo)\n",
    "tuner_args[\"objective_foo\"] = objective_smbo\n",
    "tuner_args[\"log_path\"] = base_dir + \"test_smbo\"\n",
    "tuner_smbo = TunerSMAC(**tuner_args)"
   ],
   "metadata": {
    "collapsed": false
   }
  },
  {
   "cell_type": "code",
   "execution_count": null,
   "outputs": [],
   "source": [
    "# Arm(s)\n",
    "arm_adaboost = Arm(model=AdaBoostClassifier, tuner=tuner_adaboost)\n",
    "arm_rf = Arm(model=RandomForestClassifier, tuner=tuner_rf)\n",
    "arm_knn = Arm(model=KNeighborsClassifier, tuner=tuner_knn)\n",
    "\n",
    "# Dictionary of Arm(s)\n",
    "arms_dict = dict(\n",
    "    adaboost=arm_adaboost,\n",
    "    random_forest=arm_rf,\n",
    "    knn=arm_knn\n",
    ")"
   ],
   "metadata": {
    "collapsed": false
   }
  },
  {
   "cell_type": "code",
   "execution_count": null,
   "outputs": [],
   "source": [
    "# Automatic Block\n",
    "auto_model_generation = EfficientCASHRB(\n",
    "    budget=40,\n",
    "    train_data_input=X,\n",
    "    train_data_output=Y,\n",
    "    arm_dictionary=arms_dict,\n",
    "    trials_per_step=2\n",
    ")"
   ],
   "metadata": {
    "collapsed": false
   }
  },
  {
   "cell_type": "code",
   "execution_count": null,
   "outputs": [],
   "source": [
    "model = auto_model_generation.learn()\n",
    "filename = base_dir + 'best_model.sav'\n",
    "pickle.dump(model, open(filename, 'wb'))"
   ],
   "metadata": {
    "collapsed": false
   }
  },
  {
   "cell_type": "code",
   "execution_count": 17,
   "outputs": [
    {
     "name": "stdout",
     "output_type": "stream",
     "text": [
      "ALGO:  2\n",
      "0.742483660130719 0.11563087185612614\n",
      "ALGO:  0\n",
      "0.596078431372549 0.09982256033395177\n",
      "ALGO:  1\n",
      "0.9777777777777779 0.027216552697590882\n",
      "ALGO:  0\n",
      "0.8833333333333334 0.08766518798921943\n",
      "ALGO:  2\n",
      "0.7869281045751634 0.08799046158194204\n",
      "ALGO:  1\n",
      "0.9833333333333334 0.02545875386086579\n",
      "ALGO:  1\n",
      "0.9777777777777779 0.027216552697590882\n",
      "ALGO:  2\n",
      "0.7202614379084966 0.09067317222666926\n",
      "ALGO:  0\n",
      "0.619281045751634 0.1014362450170186\n",
      "ALGO:  1\n",
      "0.9777777777777779 0.027216552697590882\n",
      "ALGO:  1\n",
      "0.9722222222222221 0.02777777777777779\n",
      "ALGO:  1\n",
      "0.9777777777777779 0.027216552697590882\n",
      "ALGO:  1\n",
      "0.9777777777777779 0.027216552697590882\n",
      "ALGO:  1\n",
      "0.9833333333333332 0.02545875386086579\n",
      "ALGO:  2\n",
      "0.7869281045751633 0.07674939398817016\n",
      "ALGO:  1\n",
      "0.9833333333333332 0.02545875386086579\n",
      "ALGO:  2\n",
      "0.7039215686274509 0.08704351275600779\n",
      "ALGO:  1\n",
      "0.9722222222222221 0.02777777777777779\n",
      "ALGO:  1\n",
      "0.9888888888888889 0.022222222222222233\n",
      "ALGO:  1\n",
      "0.9833333333333334 0.02545875386086579\n",
      "ALGO:  1\n",
      "0.9722222222222221 0.02777777777777779\n",
      "ALGO:  1\n",
      "0.9777777777777779 0.027216552697590882\n",
      "ALGO:  1\n",
      "0.9777777777777779 0.027216552697590882\n",
      "ALGO:  1\n",
      "0.9833333333333332 0.02545875386086579\n",
      "ALGO:  1\n",
      "0.9833333333333334 0.02545875386086579\n",
      "ALGO:  0\n",
      "0.8767973856209151 0.11840758176255435\n",
      "ALGO:  1\n",
      "0.9833333333333334 0.02545875386086579\n",
      "ALGO:  1\n",
      "0.9777777777777779 0.027216552697590882\n",
      "ALGO:  1\n",
      "0.9777777777777779 0.027216552697590882\n",
      "ALGO:  1\n",
      "0.9833333333333332 0.02545875386086579\n"
     ]
    },
    {
     "data": {
      "text/plain": "Configuration(values={\n  'algorithm': 'SAMME',\n  'criterion': 'entropy',\n  'learning_rate': 0.08307331584931957,\n  'max_depth': 150,\n  'n_estimators': 118,\n  'n_neighbors': 44,\n  'p': 2,\n  'root': 1,\n  'weights': 'uniform',\n})"
     },
     "execution_count": 17,
     "metadata": {},
     "output_type": "execute_result"
    }
   ],
   "source": [
    "tuner_smbo.tune(30)"
   ],
   "metadata": {
    "collapsed": false
   }
  },
  {
   "cell_type": "code",
   "execution_count": null,
   "outputs": [],
   "source": [],
   "metadata": {
    "collapsed": false
   }
  }
 ],
 "metadata": {
  "kernelspec": {
   "display_name": "Python 3",
   "language": "python",
   "name": "python3"
  },
  "language_info": {
   "codemirror_mode": {
    "name": "ipython",
    "version": 2
   },
   "file_extension": ".py",
   "mimetype": "text/x-python",
   "name": "python",
   "nbconvert_exporter": "python",
   "pygments_lexer": "ipython2",
   "version": "2.7.6"
  }
 },
 "nbformat": 4,
 "nbformat_minor": 0
}
